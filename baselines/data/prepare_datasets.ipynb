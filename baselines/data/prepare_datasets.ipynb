{
 "cells": [
  {
   "cell_type": "code",
   "execution_count": 1,
   "id": "33b951e1",
   "metadata": {},
   "outputs": [],
   "source": [
    "from prepare_data import *\n",
    "\n",
    "prepare_functions = {\n",
    "    'NyalaData': prepare_nyala_data,\n",
    "    'ZindiTurtleRecall': prepare_zindi_turtle_recall,\n",
    "    'BelugaID': prepare_beluga_id,\n",
    "    'BirdIndividualID': prepare_bird_individual_id,\n",
    "    'SealID': prepare_seal_id,\n",
    "    'FriesianCattle2015': prepare_friesian_cattle_2015,\n",
    "    'ATRW': prepare_atrw,\n",
    "    'NDD20': prepare_ndd20,\n",
    "    'SMALST': prepare_smalst,\n",
    "    'SeaTurtleIDHeads': prepare_sea_turtle_id_heads,\n",
    "    'AAUZebraFish': prepare_zebra_fish,\n",
    "    'CZoo': prepare_czoo,\n",
    "    'CTai': prepare_ctai,\n",
    "    'Giraffes': prepare_giraffes,\n",
    "    'HyenaID2022': prepare_hyena_id_2022,\n",
    "    'MacaqueFaces': prepare_macaque_faces,\n",
    "    'OpenCows2020': prepare_open_cows_2020,\n",
    "    'StripeSpotter': prepare_stripe_spotter,\n",
    "    'AerialCattle2017': prepare_aerial_cattle_2017,\n",
    "    'GiraffeZebraID': prepare_giraffe_zebra_id,\n",
    "    'IPanda50': prepare_ipanda_50,\n",
    "    'WhaleSharkID': prepare_whaleshark_id,\n",
    "    'FriesianCattle2017': prepare_friesian_cattle_2017,\n",
    "    'Cows2021': prepare_cows2021,\n",
    "    'LeopardID2022': prepare_leopard_id_2022,\n",
    "    'NOAARightWhale': prepare_noaa_right_whale,\n",
    "    'HappyWhale': prepare_happy_whale,\n",
    "    'HumpbackWhaleID': prepare_humpback_whale_id,\n",
    "    'LionData': prepare_lion_data\n",
    "}"
   ]
  },
  {
   "cell_type": "markdown",
   "id": "bda389eb",
   "metadata": {},
   "source": [
    "# 1. Process the datasets\n",
    "**Processing includes:**\n",
    "- Resize images\n",
    "- Crop bounding boxes\n",
    "- Crop black background of segmented images\n",
    "- If multiple identities exist in one image, we crop them and split them into two images.\n",
    "\n",
    "\n",
    "**We save two sets of images:**\n",
    "- For inference with images resized to 518x518: CLIP, DINOv2, and MegaDescriptor-L-384\n",
    "- For inference with images resized to 256x256: MegaDescriptor-T-224, MegaDescriptor-S-224, MegaDescriptor-B-224, MegaDescriptor-L-224\n",
    "\n",
    "\n",
    "**Note**: Stored images were further transformed (e.g. resized to 224x224) depending on model during the inference. Inference with smaller models using the stored 518x518 images is possible but it gives slightly different results that in the paper."
   ]
  },
  {
   "cell_type": "code",
   "execution_count": null,
   "id": "48be9247",
   "metadata": {
    "scrolled": true
   },
   "outputs": [],
   "source": [
    "datasets_folder = '/mnt/data/turtles/datasets/datasets'  # Path to downloaded datasets\n",
    "\n",
    "# Create folders with images resized to 256 and 518\n",
    "for name, prepare in prepare_functions.items():\n",
    "    print(name)\n",
    "    prepare(size=256, root=f'{datasets_folder}/{name}', new_root=f'images/size-256/{name}')\n",
    "    prepare(size=518, root=f'{datasets_folder}/{name}', new_root=f'images/size-518/{name}')\n",
    "\n",
    "    # Metadata should be the same\n",
    "    metadata_256 = pd.read_csv(f'images/size-256/{name}/annotations.csv', index_col=0)\n",
    "    metadata_518 = pd.read_csv(f'images/size-518/{name}/annotations.csv', index_col=0)\n",
    "    assert metadata_256.equals(metadata_518)"
   ]
  },
  {
   "cell_type": "markdown",
   "id": "bd0b434e",
   "metadata": {},
   "source": [
    "# 2. Create split metadata for each dataset\n",
    "**Split datasets:**\n",
    "- Closed split, images with unknown identities are discarded\n",
    "- Store the metadata for each dataset as CSV.\n",
    "- Test set for each dataset is used for evaluation."
   ]
  },
  {
   "cell_type": "code",
   "execution_count": 5,
   "id": "f22fb2da",
   "metadata": {},
   "outputs": [],
   "source": [
    "# Create dataframe with training / test set splits\n",
    "from wildlife_datasets import splits\n",
    "for name in prepare_functions:\n",
    "    metadata = pd.read_csv(f'images/size-518/{name}/annotations.csv', index_col=0)\n",
    "    splitter = splits.ClosedSetSplit(0.8, identity_skip='unknown', seed=666)\n",
    "    idx_train, idx_test = splitter.split(metadata)[0]\n",
    "\n",
    "    metadata.loc[metadata.index[idx_train], 'split'] = 'train'\n",
    "    metadata.loc[metadata.index[idx_test], 'split'] = 'test'\n",
    "\n",
    "    os.makedirs(f'metadata/datasets/{name}/', exist_ok=True)\n",
    "    metadata.to_csv(f'metadata/datasets/{name}/metadata.csv')\n"
   ]
  },
  {
   "cell_type": "markdown",
   "id": "6b235422",
   "metadata": {},
   "source": [
    "# 3. Create metadata for aggregated training dataset\n",
    "- Combine training sets from metadata of all datasets to single aggregated metadata\n",
    "- The aggregated training set is used for training MegaDescriptors.\n",
    "    - Adds dataset name to identity to prevent identity name collisions\n",
    "    - Adds dataset name to the image path to enable loading the aggregated dataset using `WildlifeDataset`"
   ]
  },
  {
   "cell_type": "code",
   "execution_count": 4,
   "id": "e4b18d0f",
   "metadata": {
    "scrolled": true
   },
   "outputs": [],
   "source": [
    "import pandas as pd\n",
    "\n",
    "results = []\n",
    "for name in prepare_functions:\n",
    "    metadata = pd.read_csv(f'metadata/datasets/{name}/metadata.csv', index_col=0)\n",
    "\n",
    "    df = metadata.query(\"split == 'train'\").copy()\n",
    "    df['dataset'] = name\n",
    "    df['identity'] = name + '_' + df['identity'].astype(str)\n",
    "    df['path'] = name + '/' + df['path']\n",
    "    results.append(df)\n",
    "\n",
    "combined_all = pd.concat(results)\n",
    "\n",
    "os.makedirs(f'metadata/combined/', exist_ok=True)\n",
    "combined_all.to_csv(f'metadata/combined/combined_all.csv')"
   ]
  },
  {
   "cell_type": "code",
   "execution_count": null,
   "id": "96e2edd3",
   "metadata": {},
   "outputs": [],
   "source": []
  },
  {
   "cell_type": "code",
   "execution_count": null,
   "id": "628954ec",
   "metadata": {},
   "outputs": [],
   "source": []
  }
 ],
 "metadata": {
  "kernelspec": {
   "display_name": "Python 3 (ipykernel)",
   "language": "python",
   "name": "python3"
  },
  "language_info": {
   "codemirror_mode": {
    "name": "ipython",
    "version": 3
   },
   "file_extension": ".py",
   "mimetype": "text/x-python",
   "name": "python",
   "nbconvert_exporter": "python",
   "pygments_lexer": "ipython3",
   "version": "3.13.3"
  }
 },
 "nbformat": 4,
 "nbformat_minor": 5
}
